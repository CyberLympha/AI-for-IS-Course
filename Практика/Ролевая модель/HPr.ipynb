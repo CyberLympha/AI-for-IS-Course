{
 "cells": [
  {
   "cell_type": "markdown",
   "id": "danish-cholesterol",
   "metadata": {},
   "source": [
    "# Data prep"
   ]
  },
  {
   "cell_type": "code",
   "execution_count": 1,
   "id": "ideal-masters",
   "metadata": {},
   "outputs": [],
   "source": [
    "import numpy as np\n",
    "\n",
    "with open('university_large.ass', 'r') as file:\n",
    "    lines = [line.rstrip() for line in file.readlines()]"
   ]
  },
  {
   "cell_type": "code",
   "execution_count": 2,
   "id": "micro-courage",
   "metadata": {
    "scrolled": false
   },
   "outputs": [
    {
     "name": "stdout",
     "output_type": "stream",
     "text": [
      "(493, 56)\n"
     ]
    }
   ],
   "source": [
    "parameters = dict()\n",
    "matrix = list()\n",
    "\n",
    "for line in lines:\n",
    "    if line.startswith('@'):\n",
    "        if '{' in line:\n",
    "            parameter_name = line.split('{')[0].strip('{}@ ')\n",
    "            parameter_value = line.split('{')[1].strip('{}@ ').split(',')\n",
    "            \n",
    "            parameters[parameter_name] = parameter_value\n",
    "        \n",
    "    elif ('0' in line or '1' in line) and ',' in line:\n",
    "        matrix.append([int(x) for x in line.split(',')])\n",
    "        \n",
    "matrix = np.array(matrix)\n",
    "\n",
    "assert len(parameters['dimension user']) == matrix.shape[0]\n",
    "assert len(parameters['dimension permission']) == matrix.shape[1]\n",
    "\n",
    "print(matrix.shape)"
   ]
  },
  {
   "cell_type": "markdown",
   "id": "tough-swimming",
   "metadata": {},
   "source": [
    "# Greedy algorithm"
   ]
  },
  {
   "cell_type": "markdown",
   "id": "dedicated-military",
   "metadata": {},
   "source": [
    "Abstract:\n",
    "\n",
    "This algorithm starts with least permissions user and calculates his role. Then other users with same permissions are given this role. \n",
    "Its greed allows to effectively minimize number of roles"
   ]
  },
  {
   "cell_type": "code",
   "execution_count": 3,
   "id": "assigned-internet",
   "metadata": {},
   "outputs": [],
   "source": [
    "def calculate_coverage(permissions_vector, cover_vector):\n",
    "    num_uncovered_permissions = 0\n",
    "    \n",
    "    for i in range(len(permissions_vector)):\n",
    "        if permissions_vector[i] == 1 and cover_vector[i] == 0:\n",
    "            num_uncovered_permissions += 1\n",
    "            \n",
    "    return num_uncovered_permissions\n",
    "\n",
    "def add_permissions(cover_vector, permissions_vector):\n",
    "    for i in range(len(permissions_vector)):\n",
    "        if permissions_vector[i] == 1:\n",
    "            cover_vector[i] = 1\n",
    "            \n",
    "    return cover_vector\n",
    "\n",
    "def has_permissions_subset(user_permissions, permissions_subset):\n",
    "    for i in range(len(permissions_subset)):\n",
    "        if permissions_subset[i] == 1 and user_permissions[i] != 1:\n",
    "            return False\n",
    "    return True"
   ]
  },
  {
   "cell_type": "code",
   "execution_count": 11,
   "id": "postal-today",
   "metadata": {
    "scrolled": false
   },
   "outputs": [
    {
     "name": "stdout",
     "output_type": "stream",
     "text": [
      "Iter: #1, users in group: 5, user group permissions: 2\n",
      "Iter: #2, users in group: 5, user group permissions: 2\n",
      "Iter: #3, users in group: 9, user group permissions: 3\n",
      "Iter: #4, users in group: 5, user group permissions: 3\n",
      "Iter: #5, users in group: 300, user group permissions: 7\n",
      "Iter: #6, users in group: 30, user group permissions: 8\n",
      "Iter: #7, users in group: 20, user group permissions: 9\n",
      "Iter: #8, users in group: 9, user group permissions: 11\n",
      "Iter: #9, users in group: 40, user group permissions: 9\n",
      "Iter: #10, users in group: 5, user group permissions: 9\n",
      "Iter: #11, users in group: 73, user group permissions: 9\n",
      "Iter: #12, users in group: 1, user group permissions: 10\n",
      "Iter: #13, users in group: 4, user group permissions: 11\n",
      "Iter: #14, users in group: 10, user group permissions: 21\n",
      "Iter: #15, users in group: 6, user group permissions: 26\n",
      "Iter: #16, users in group: 3, user group permissions: 30\n",
      "Iter: #17, users in group: 1, user group permissions: 40\n"
     ]
    }
   ],
   "source": [
    "covered_permissions = [0]*matrix.shape[1]\n",
    "user_groups = list()\n",
    "user_groups_permissions = list()\n",
    "\n",
    "iterations = 0\n",
    "\n",
    "while 0 in covered_permissions:\n",
    "    iterations += 1\n",
    "    \n",
    "    min_uncovered_permissions = matrix.shape[1]\n",
    "    min_uncovered_permissions_user_index = 0\n",
    "\n",
    "    for i in range(matrix.shape[0]):\n",
    "        num_uncovered_permissions = calculate_coverage(matrix[i], covered_permissions)\n",
    "        if num_uncovered_permissions < min_uncovered_permissions and num_uncovered_permissions != 0:\n",
    "            min_uncovered_permissions = num_uncovered_permissions\n",
    "            min_uncovered_permissions_user_index = i\n",
    "        \n",
    "    permissions_subset = matrix[min_uncovered_permissions_user_index]\n",
    "    user_group = [min_uncovered_permissions_user_index]\n",
    "    \n",
    "    for i in range(matrix.shape[0]):\n",
    "        if i == min_uncovered_permissions_user_index:\n",
    "            continue\n",
    "        \n",
    "        if has_permissions_subset(matrix[i], permissions_subset):\n",
    "            user_group.append(i)\n",
    "            \n",
    "    covered_permissions = add_permissions(covered_permissions, permissions_subset)\n",
    "    user_groups.append(user_group)\n",
    "    user_groups_permissions.append(permissions_subset)\n",
    "    \n",
    "    print(f'Iter: #{iterations}, users in group: {len(user_group)}, user group permissions: {sum(permissions_subset)}')"
   ]
  },
  {
   "cell_type": "code",
   "execution_count": 12,
   "id": "critical-walnut",
   "metadata": {},
   "outputs": [
    {
     "data": {
      "text/plain": [
       "[array([0, 0, 0, 0, 0, 0, 0, 0, 0, 0, 0, 0, 1, 1, 0, 0, 0, 0, 0, 0, 0, 0,\n",
       "        0, 0, 0, 0, 0, 0, 0, 0, 0, 0, 0, 0, 0, 0, 0, 0, 0, 0, 0, 0, 0, 0,\n",
       "        0, 0, 0, 0, 0, 0, 0, 0, 0, 0, 0, 0]),\n",
       " array([0, 0, 0, 0, 0, 0, 0, 0, 0, 0, 0, 0, 1, 0, 0, 0, 0, 0, 0, 0, 0, 0,\n",
       "        0, 1, 0, 0, 0, 0, 0, 0, 0, 0, 0, 0, 0, 0, 0, 0, 0, 0, 0, 0, 0, 0,\n",
       "        0, 0, 0, 0, 0, 0, 0, 0, 0, 0, 0, 0]),\n",
       " array([0, 0, 0, 0, 0, 0, 0, 0, 0, 0, 0, 0, 1, 0, 0, 0, 1, 1, 0, 0, 0, 0,\n",
       "        0, 0, 0, 0, 0, 0, 0, 0, 0, 0, 0, 0, 0, 0, 0, 0, 0, 0, 0, 0, 0, 0,\n",
       "        0, 0, 0, 0, 0, 0, 0, 0, 0, 0, 0, 0]),\n",
       " array([0, 0, 0, 0, 0, 0, 0, 0, 0, 0, 0, 1, 1, 0, 0, 0, 0, 0, 0, 0, 0, 0,\n",
       "        0, 0, 1, 0, 0, 0, 0, 0, 0, 0, 0, 0, 0, 0, 0, 0, 0, 0, 0, 0, 0, 0,\n",
       "        0, 0, 0, 0, 0, 0, 0, 0, 0, 0, 0, 0]),\n",
       " array([1, 1, 1, 1, 1, 1, 1, 0, 0, 0, 0, 0, 0, 0, 0, 0, 0, 0, 0, 0, 0, 0,\n",
       "        0, 0, 0, 0, 0, 0, 0, 0, 0, 0, 0, 0, 0, 0, 0, 0, 0, 0, 0, 0, 0, 0,\n",
       "        0, 0, 0, 0, 0, 0, 0, 0, 0, 0, 0, 0]),\n",
       " array([1, 1, 1, 1, 1, 1, 1, 1, 0, 0, 0, 0, 0, 0, 0, 0, 0, 0, 0, 0, 0, 0,\n",
       "        0, 0, 0, 0, 0, 0, 0, 0, 0, 0, 0, 0, 0, 0, 0, 0, 0, 0, 0, 0, 0, 0,\n",
       "        0, 0, 0, 0, 0, 0, 0, 0, 0, 0, 0, 0]),\n",
       " array([1, 1, 1, 1, 1, 1, 1, 0, 0, 0, 0, 0, 0, 0, 0, 0, 0, 0, 1, 1, 0, 0,\n",
       "        0, 0, 0, 0, 0, 0, 0, 0, 0, 0, 0, 0, 0, 0, 0, 0, 0, 0, 0, 0, 0, 0,\n",
       "        0, 0, 0, 0, 0, 0, 0, 0, 0, 0, 0, 0]),\n",
       " array([1, 1, 1, 1, 1, 1, 1, 0, 0, 0, 0, 0, 0, 0, 0, 0, 0, 0, 1, 1, 0, 1,\n",
       "        1, 0, 0, 0, 0, 0, 0, 0, 0, 0, 0, 0, 0, 0, 0, 0, 0, 0, 0, 0, 0, 0,\n",
       "        0, 0, 0, 0, 0, 0, 0, 0, 0, 0, 0, 0]),\n",
       " array([1, 1, 1, 1, 0, 0, 1, 1, 0, 0, 0, 0, 0, 0, 0, 0, 0, 0, 0, 0, 1, 1,\n",
       "        1, 0, 0, 0, 0, 0, 0, 0, 0, 0, 0, 0, 0, 0, 0, 0, 0, 0, 0, 0, 0, 0,\n",
       "        0, 0, 0, 0, 0, 0, 0, 0, 0, 0, 0, 0]),\n",
       " array([1, 1, 1, 1, 0, 0, 1, 0, 0, 0, 0, 0, 0, 0, 0, 0, 0, 0, 0, 0, 1, 1,\n",
       "        1, 0, 0, 0, 0, 0, 0, 0, 0, 0, 0, 0, 0, 0, 0, 0, 0, 0, 0, 0, 0, 0,\n",
       "        0, 1, 0, 0, 0, 0, 0, 0, 0, 0, 0, 0]),\n",
       " array([0, 0, 0, 0, 0, 0, 1, 1, 1, 1, 1, 0, 1, 0, 1, 1, 1, 0, 0, 0, 0, 0,\n",
       "        0, 0, 0, 0, 0, 0, 0, 0, 0, 0, 0, 0, 0, 0, 0, 0, 0, 0, 0, 0, 0, 0,\n",
       "        0, 0, 0, 0, 0, 0, 0, 0, 0, 0, 0, 0]),\n",
       " array([0, 0, 0, 0, 0, 0, 1, 1, 1, 1, 1, 0, 1, 0, 1, 1, 1, 0, 0, 0, 0, 0,\n",
       "        0, 0, 0, 0, 0, 0, 0, 0, 0, 0, 0, 0, 0, 0, 0, 0, 0, 0, 0, 0, 0, 0,\n",
       "        1, 0, 0, 0, 0, 0, 0, 0, 0, 0, 0, 0]),\n",
       " array([0, 0, 0, 0, 0, 0, 1, 1, 1, 1, 1, 0, 1, 0, 1, 1, 1, 1, 0, 0, 0, 0,\n",
       "        0, 0, 0, 0, 0, 0, 0, 0, 0, 0, 0, 0, 0, 0, 0, 0, 0, 0, 0, 0, 0, 1,\n",
       "        0, 0, 0, 0, 0, 0, 0, 0, 0, 0, 0, 0]),\n",
       " array([0, 0, 0, 0, 0, 0, 1, 1, 1, 1, 1, 0, 1, 0, 1, 1, 1, 0, 0, 0, 0, 0,\n",
       "        0, 0, 0, 0, 0, 1, 1, 1, 1, 1, 1, 1, 1, 1, 1, 0, 0, 1, 1, 0, 0, 0,\n",
       "        0, 0, 0, 0, 0, 0, 0, 0, 0, 0, 0, 0]),\n",
       " array([0, 0, 0, 0, 0, 0, 1, 1, 1, 1, 1, 1, 1, 0, 1, 1, 1, 0, 0, 0, 0, 0,\n",
       "        0, 0, 0, 1, 1, 1, 1, 1, 1, 1, 1, 1, 1, 1, 1, 1, 1, 1, 1, 0, 0, 0,\n",
       "        0, 0, 0, 0, 0, 0, 0, 0, 0, 0, 0, 0]),\n",
       " array([0, 0, 0, 0, 0, 0, 1, 1, 1, 1, 1, 1, 1, 0, 1, 1, 1, 1, 0, 0, 0, 0,\n",
       "        0, 0, 0, 1, 1, 1, 1, 1, 1, 1, 1, 1, 1, 1, 1, 1, 1, 1, 1, 1, 1, 1,\n",
       "        0, 0, 0, 0, 0, 0, 0, 0, 0, 0, 0, 0]),\n",
       " array([0, 0, 0, 0, 0, 0, 1, 1, 1, 1, 1, 1, 1, 0, 1, 1, 1, 1, 0, 0, 0, 0,\n",
       "        0, 0, 0, 1, 1, 1, 1, 1, 1, 1, 1, 1, 1, 1, 1, 1, 1, 1, 1, 1, 1, 1,\n",
       "        0, 0, 1, 1, 1, 1, 1, 1, 1, 1, 1, 1])]"
      ]
     },
     "execution_count": 12,
     "metadata": {},
     "output_type": "execute_result"
    }
   ],
   "source": [
    "user_groups_permissions"
   ]
  }
 ],
 "metadata": {
  "kernelspec": {
   "display_name": "Python 3",
   "language": "python",
   "name": "python3"
  },
  "language_info": {
   "codemirror_mode": {
    "name": "ipython",
    "version": 3
   },
   "file_extension": ".py",
   "mimetype": "text/x-python",
   "name": "python",
   "nbconvert_exporter": "python",
   "pygments_lexer": "ipython3",
   "version": "3.9.2"
  }
 },
 "nbformat": 4,
 "nbformat_minor": 5
}
