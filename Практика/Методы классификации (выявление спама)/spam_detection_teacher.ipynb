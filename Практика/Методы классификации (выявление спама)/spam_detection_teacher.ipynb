{
  "nbformat": 4,
  "nbformat_minor": 0,
  "metadata": {
    "colab": {
      "name": "spam_detection.ipynb",
      "provenance": [],
      "collapsed_sections": [
        "uYoRjEi1a_UM"
      ]
    },
    "kernelspec": {
      "name": "python3",
      "display_name": "Python 3"
    },
    "language_info": {
      "name": "python"
    }
  },
  "cells": [
    {
      "cell_type": "markdown",
      "metadata": {
        "id": "-V7UE1n0_A_j"
      },
      "source": [
        "# Лабораторное задание для модуля \"Классификация\"\n",
        "\n",
        "Задача этого занятия - разработать модель, предсказывающую класс SMS-сообщения: \"спам\" или \"не-спам\"\n",
        "\n",
        "На этом занятии мы получим исходный датасет, посмотрим данные, проведём небольшую предобработку, а затем попробуем применить к ним самописную модель K-ближайших соседей"
      ]
    },
    {
      "cell_type": "markdown",
      "metadata": {
        "id": "X46F0XINcFmu"
      },
      "source": [
        "# Датасет"
      ]
    },
    {
      "cell_type": "markdown",
      "metadata": {
        "id": "uhky5WYqWNq_"
      },
      "source": [
        "В качестве исходных данных предлагается использовать датасет, собранный командой Центра машинного обучения и интеллектуальных систем Калифорнийского университета. \n",
        "\n",
        "Создатели датасета разрешают использовать его, оставляя при этом ссылку на их сайт (где подробно описана структура данных) и публикацию:\n",
        "\n",
        "> https://www.dt.fee.unicamp.br/~tiago/smsspamcollection/\n",
        "\n",
        "> Dua, D. and Graff, C. (2019). UCI Machine Learning Repository [http://archive.ics.uci.edu/ml]. Irvine, CA: University of California, School of Information and Computer Science.\n"
      ]
    },
    {
      "cell_type": "markdown",
      "metadata": {
        "id": "3plSUZIAZEQd"
      },
      "source": [
        "Датасет поставляется вместе с этим ноутбуком. Также его можно скачать по ссылке ниже:\n",
        "> http://archive.ics.uci.edu/ml/machine-learning-databases/00228/"
      ]
    },
    {
      "cell_type": "markdown",
      "metadata": {
        "id": "-nyNgiLK_ebo"
      },
      "source": [
        "## Получение исходных данных\n",
        "Если запуск происходит в GoogleColab, то нужно будет примонтировать GoogleDrive в интерактивном режиме"
      ]
    },
    {
      "cell_type": "code",
      "metadata": {
        "id": "6Iz_oqUD_XOL"
      },
      "source": [
        "# определение запуска в Colab по косвенным признакам\n",
        "__folder_list = !ls\n",
        "__working_dir = !pwd\n",
        "colab_driven = True if 'sample_data' in __folder_list[0] and '/content' in __working_dir else False\n",
        "\n",
        "if colab_driven and not 'drive' in __folder_list[0]: # если в Колабе и ещё не подключили Гугл-диск с данными\n",
        "    from google.colab import drive\n",
        "    drive.mount('/content/drive') # тут надо интерактивно ввести ключ авторизации\n",
        "\n",
        "del __folder_list, __working_dir\n"
      ],
      "execution_count": 1,
      "outputs": []
    },
    {
      "cell_type": "markdown",
      "metadata": {
        "id": "1qSArWrkV7Lx"
      },
      "source": [
        "Если путь к данным отличается, Вам нужно его исправить на свой:"
      ]
    },
    {
      "cell_type": "code",
      "metadata": {
        "id": "9Mec725eV3Nl"
      },
      "source": [
        "path_to_data = 'drive/MyDrive/ИИ для ИБ/spam.csv' if colab_driven else 'spam.csv'"
      ],
      "execution_count": 2,
      "outputs": []
    },
    {
      "cell_type": "markdown",
      "metadata": {
        "id": "wRkfRX70ZXeX"
      },
      "source": [
        "Импортируем библиотеки, которые нам пригодятся в ближайшее время"
      ]
    },
    {
      "cell_type": "code",
      "metadata": {
        "id": "7_lXyRbQ_2Hi"
      },
      "source": [
        "import numpy as np # линейная алгебра\n",
        "import pandas as pd # обработка данных, запись и чтение CSV (в том числе - pd.read_csv)"
      ],
      "execution_count": 3,
      "outputs": []
    },
    {
      "cell_type": "markdown",
      "metadata": {
        "id": "E0r28qmBZl_F"
      },
      "source": [
        "Прочитаем даннне в Dataframe"
      ]
    },
    {
      "cell_type": "code",
      "metadata": {
        "colab": {
          "base_uri": "https://localhost:8080/",
          "height": 206
        },
        "id": "UzwnBlzq_2J5",
        "outputId": "38ae7b00-e634-4726-f113-ab97aa59cd6d"
      },
      "source": [
        "# ISO-8859-1 - однобайтовая кодировка для UTF-8\n",
        "df = pd.read_csv(path_to_data, encoding = 'ISO-8859-1')\n",
        "df.head()"
      ],
      "execution_count": 4,
      "outputs": [
        {
          "output_type": "execute_result",
          "data": {
            "text/html": [
              "<div>\n",
              "<style scoped>\n",
              "    .dataframe tbody tr th:only-of-type {\n",
              "        vertical-align: middle;\n",
              "    }\n",
              "\n",
              "    .dataframe tbody tr th {\n",
              "        vertical-align: top;\n",
              "    }\n",
              "\n",
              "    .dataframe thead th {\n",
              "        text-align: right;\n",
              "    }\n",
              "</style>\n",
              "<table border=\"1\" class=\"dataframe\">\n",
              "  <thead>\n",
              "    <tr style=\"text-align: right;\">\n",
              "      <th></th>\n",
              "      <th>v1</th>\n",
              "      <th>v2</th>\n",
              "      <th>Unnamed: 2</th>\n",
              "      <th>Unnamed: 3</th>\n",
              "      <th>Unnamed: 4</th>\n",
              "    </tr>\n",
              "  </thead>\n",
              "  <tbody>\n",
              "    <tr>\n",
              "      <th>0</th>\n",
              "      <td>ham</td>\n",
              "      <td>Go until jurong point, crazy.. Available only ...</td>\n",
              "      <td>NaN</td>\n",
              "      <td>NaN</td>\n",
              "      <td>NaN</td>\n",
              "    </tr>\n",
              "    <tr>\n",
              "      <th>1</th>\n",
              "      <td>ham</td>\n",
              "      <td>Ok lar... Joking wif u oni...</td>\n",
              "      <td>NaN</td>\n",
              "      <td>NaN</td>\n",
              "      <td>NaN</td>\n",
              "    </tr>\n",
              "    <tr>\n",
              "      <th>2</th>\n",
              "      <td>spam</td>\n",
              "      <td>Free entry in 2 a wkly comp to win FA Cup fina...</td>\n",
              "      <td>NaN</td>\n",
              "      <td>NaN</td>\n",
              "      <td>NaN</td>\n",
              "    </tr>\n",
              "    <tr>\n",
              "      <th>3</th>\n",
              "      <td>ham</td>\n",
              "      <td>U dun say so early hor... U c already then say...</td>\n",
              "      <td>NaN</td>\n",
              "      <td>NaN</td>\n",
              "      <td>NaN</td>\n",
              "    </tr>\n",
              "    <tr>\n",
              "      <th>4</th>\n",
              "      <td>ham</td>\n",
              "      <td>Nah I don't think he goes to usf, he lives aro...</td>\n",
              "      <td>NaN</td>\n",
              "      <td>NaN</td>\n",
              "      <td>NaN</td>\n",
              "    </tr>\n",
              "  </tbody>\n",
              "</table>\n",
              "</div>"
            ],
            "text/plain": [
              "     v1  ... Unnamed: 4\n",
              "0   ham  ...        NaN\n",
              "1   ham  ...        NaN\n",
              "2  spam  ...        NaN\n",
              "3   ham  ...        NaN\n",
              "4   ham  ...        NaN\n",
              "\n",
              "[5 rows x 5 columns]"
            ]
          },
          "metadata": {},
          "execution_count": 4
        }
      ]
    },
    {
      "cell_type": "markdown",
      "metadata": {
        "id": "qQWy1QOnBjyK"
      },
      "source": [
        "# Предобработка данных"
      ]
    },
    {
      "cell_type": "markdown",
      "metadata": {
        "id": "07wDOsG9cJkf"
      },
      "source": [
        "## Оценка данных"
      ]
    },
    {
      "cell_type": "markdown",
      "metadata": {
        "id": "OMEkok2vZz4_"
      },
      "source": [
        "Посмотрим, сколько данных у нас имеется"
      ]
    },
    {
      "cell_type": "code",
      "metadata": {
        "colab": {
          "base_uri": "https://localhost:8080/"
        },
        "id": "LuGWVzoQ_2MW",
        "outputId": "4d877be7-1d65-428d-c853-c57cf8945d8f"
      },
      "source": [
        "df.shape"
      ],
      "execution_count": 5,
      "outputs": [
        {
          "output_type": "execute_result",
          "data": {
            "text/plain": [
              "(5572, 5)"
            ]
          },
          "metadata": {},
          "execution_count": 5
        }
      ]
    },
    {
      "cell_type": "code",
      "metadata": {
        "colab": {
          "base_uri": "https://localhost:8080/"
        },
        "id": "8-m0ldQGAz4h",
        "outputId": "d0268adf-bc45-4d69-ff9f-cd868447f216"
      },
      "source": [
        "df.info()"
      ],
      "execution_count": 6,
      "outputs": [
        {
          "output_type": "stream",
          "name": "stdout",
          "text": [
            "<class 'pandas.core.frame.DataFrame'>\n",
            "RangeIndex: 5572 entries, 0 to 5571\n",
            "Data columns (total 5 columns):\n",
            " #   Column      Non-Null Count  Dtype \n",
            "---  ------      --------------  ----- \n",
            " 0   v1          5572 non-null   object\n",
            " 1   v2          5572 non-null   object\n",
            " 2   Unnamed: 2  50 non-null     object\n",
            " 3   Unnamed: 3  12 non-null     object\n",
            " 4   Unnamed: 4  6 non-null      object\n",
            "dtypes: object(5)\n",
            "memory usage: 217.8+ KB\n"
          ]
        }
      ]
    },
    {
      "cell_type": "markdown",
      "metadata": {
        "id": "dZI-JsBSb27-"
      },
      "source": [
        "## Удаление пустых ячеек"
      ]
    },
    {
      "cell_type": "markdown",
      "metadata": {
        "id": "e0V8pR2maJEv"
      },
      "source": [
        "Оценим количество пустых ячеек"
      ]
    },
    {
      "cell_type": "code",
      "metadata": {
        "colab": {
          "base_uri": "https://localhost:8080/"
        },
        "id": "uzCbGxjXAz7C",
        "outputId": "2f99b53a-3b44-412f-d3ab-5109c0d0bc5f"
      },
      "source": [
        "df.isnull().sum()"
      ],
      "execution_count": 7,
      "outputs": [
        {
          "output_type": "execute_result",
          "data": {
            "text/plain": [
              "v1               0\n",
              "v2               0\n",
              "Unnamed: 2    5522\n",
              "Unnamed: 3    5560\n",
              "Unnamed: 4    5566\n",
              "dtype: int64"
            ]
          },
          "metadata": {},
          "execution_count": 7
        }
      ]
    },
    {
      "cell_type": "markdown",
      "metadata": {
        "id": "2CfxBAPnaTCH"
      },
      "source": [
        "Столбцы с большим количеством пропусков удалим"
      ]
    },
    {
      "cell_type": "code",
      "metadata": {
        "id": "G4rMTX6AAz9Z"
      },
      "source": [
        "df.drop(['Unnamed: 2', 'Unnamed: 3', 'Unnamed: 4'], axis=1, inplace=True)"
      ],
      "execution_count": 8,
      "outputs": []
    },
    {
      "cell_type": "code",
      "metadata": {
        "colab": {
          "base_uri": "https://localhost:8080/",
          "height": 206
        },
        "id": "q55zZW1cAz_f",
        "outputId": "ac3fa1f9-d619-4109-b6a2-e26513ecd4a2"
      },
      "source": [
        "df.head()"
      ],
      "execution_count": 9,
      "outputs": [
        {
          "output_type": "execute_result",
          "data": {
            "text/html": [
              "<div>\n",
              "<style scoped>\n",
              "    .dataframe tbody tr th:only-of-type {\n",
              "        vertical-align: middle;\n",
              "    }\n",
              "\n",
              "    .dataframe tbody tr th {\n",
              "        vertical-align: top;\n",
              "    }\n",
              "\n",
              "    .dataframe thead th {\n",
              "        text-align: right;\n",
              "    }\n",
              "</style>\n",
              "<table border=\"1\" class=\"dataframe\">\n",
              "  <thead>\n",
              "    <tr style=\"text-align: right;\">\n",
              "      <th></th>\n",
              "      <th>v1</th>\n",
              "      <th>v2</th>\n",
              "    </tr>\n",
              "  </thead>\n",
              "  <tbody>\n",
              "    <tr>\n",
              "      <th>0</th>\n",
              "      <td>ham</td>\n",
              "      <td>Go until jurong point, crazy.. Available only ...</td>\n",
              "    </tr>\n",
              "    <tr>\n",
              "      <th>1</th>\n",
              "      <td>ham</td>\n",
              "      <td>Ok lar... Joking wif u oni...</td>\n",
              "    </tr>\n",
              "    <tr>\n",
              "      <th>2</th>\n",
              "      <td>spam</td>\n",
              "      <td>Free entry in 2 a wkly comp to win FA Cup fina...</td>\n",
              "    </tr>\n",
              "    <tr>\n",
              "      <th>3</th>\n",
              "      <td>ham</td>\n",
              "      <td>U dun say so early hor... U c already then say...</td>\n",
              "    </tr>\n",
              "    <tr>\n",
              "      <th>4</th>\n",
              "      <td>ham</td>\n",
              "      <td>Nah I don't think he goes to usf, he lives aro...</td>\n",
              "    </tr>\n",
              "  </tbody>\n",
              "</table>\n",
              "</div>"
            ],
            "text/plain": [
              "     v1                                                 v2\n",
              "0   ham  Go until jurong point, crazy.. Available only ...\n",
              "1   ham                      Ok lar... Joking wif u oni...\n",
              "2  spam  Free entry in 2 a wkly comp to win FA Cup fina...\n",
              "3   ham  U dun say so early hor... U c already then say...\n",
              "4   ham  Nah I don't think he goes to usf, he lives aro..."
            ]
          },
          "metadata": {},
          "execution_count": 9
        }
      ]
    },
    {
      "cell_type": "markdown",
      "metadata": {
        "id": "m69fzzgGaavN"
      },
      "source": [
        "Посмотрим, сколько в датасете экземпляров каждого класса"
      ]
    },
    {
      "cell_type": "code",
      "metadata": {
        "colab": {
          "base_uri": "https://localhost:8080/"
        },
        "id": "inc7W9k2A0B7",
        "outputId": "63c32ab3-f9b0-4639-bfea-8462b3aa3b1d"
      },
      "source": [
        "df.v1.value_counts(dropna=False)"
      ],
      "execution_count": 10,
      "outputs": [
        {
          "output_type": "execute_result",
          "data": {
            "text/plain": [
              "ham     4825\n",
              "spam     747\n",
              "Name: v1, dtype: int64"
            ]
          },
          "metadata": {},
          "execution_count": 10
        }
      ]
    },
    {
      "cell_type": "markdown",
      "metadata": {
        "id": "J09SISkPci-8"
      },
      "source": [
        "## Создание признаков"
      ]
    },
    {
      "cell_type": "markdown",
      "metadata": {
        "id": "j1qd87decwPT"
      },
      "source": [
        "В качестве исходных данных остался текст сообщения. Много это или мало? Достаточно. Но попробуем добавить ещё данных, по которым можно будет отделить обычные сообщения от рекламных - например, посмотрим, как распределена длина текстовых сообщений в каждой категории"
      ]
    },
    {
      "cell_type": "code",
      "metadata": {
        "id": "yAKKR-C8cnQe"
      },
      "source": [
        "df['length'] = df['v2'].apply(len)"
      ],
      "execution_count": 11,
      "outputs": []
    },
    {
      "cell_type": "code",
      "metadata": {
        "colab": {
          "base_uri": "https://localhost:8080/",
          "height": 143
        },
        "id": "piJN1eELeGt5",
        "outputId": "9be4da50-5663-4466-cf58-9bf9ed46ae12"
      },
      "source": [
        "df.head(3)"
      ],
      "execution_count": 12,
      "outputs": [
        {
          "output_type": "execute_result",
          "data": {
            "text/html": [
              "<div>\n",
              "<style scoped>\n",
              "    .dataframe tbody tr th:only-of-type {\n",
              "        vertical-align: middle;\n",
              "    }\n",
              "\n",
              "    .dataframe tbody tr th {\n",
              "        vertical-align: top;\n",
              "    }\n",
              "\n",
              "    .dataframe thead th {\n",
              "        text-align: right;\n",
              "    }\n",
              "</style>\n",
              "<table border=\"1\" class=\"dataframe\">\n",
              "  <thead>\n",
              "    <tr style=\"text-align: right;\">\n",
              "      <th></th>\n",
              "      <th>v1</th>\n",
              "      <th>v2</th>\n",
              "      <th>length</th>\n",
              "    </tr>\n",
              "  </thead>\n",
              "  <tbody>\n",
              "    <tr>\n",
              "      <th>0</th>\n",
              "      <td>ham</td>\n",
              "      <td>Go until jurong point, crazy.. Available only ...</td>\n",
              "      <td>111</td>\n",
              "    </tr>\n",
              "    <tr>\n",
              "      <th>1</th>\n",
              "      <td>ham</td>\n",
              "      <td>Ok lar... Joking wif u oni...</td>\n",
              "      <td>29</td>\n",
              "    </tr>\n",
              "    <tr>\n",
              "      <th>2</th>\n",
              "      <td>spam</td>\n",
              "      <td>Free entry in 2 a wkly comp to win FA Cup fina...</td>\n",
              "      <td>155</td>\n",
              "    </tr>\n",
              "  </tbody>\n",
              "</table>\n",
              "</div>"
            ],
            "text/plain": [
              "     v1                                                 v2  length\n",
              "0   ham  Go until jurong point, crazy.. Available only ...     111\n",
              "1   ham                      Ok lar... Joking wif u oni...      29\n",
              "2  spam  Free entry in 2 a wkly comp to win FA Cup fina...     155"
            ]
          },
          "metadata": {},
          "execution_count": 12
        }
      ]
    },
    {
      "cell_type": "code",
      "metadata": {
        "colab": {
          "base_uri": "https://localhost:8080/",
          "height": 289
        },
        "id": "lYTizoKYcsY4",
        "outputId": "7ad4295d-70d7-41ef-e342-a8fa4c2130de"
      },
      "source": [
        "import matplotlib.pyplot as plt # модуль для отображения графиков\n",
        "df.hist(column='length',by='v1',bins=60,figsize=(12,4)); # генерация гистограммы\n",
        "plt.xlim(-40,950); # ограничение гистограммы (чтобы оба графика были в одинаковом масштабе)"
      ],
      "execution_count": 13,
      "outputs": [
        {
          "output_type": "display_data",
          "data": {
            "image/png": "[encoded data removed]",
            "text/plain": [
              "<Figure size 864x288 with 2 Axes>"
            ]
          },
          "metadata": {
            "needs_background": "light"
          }
        }
      ]
    },
    {
      "cell_type": "markdown",
      "metadata": {
        "id": "smywWcQjeSPg"
      },
      "source": [
        "Видно, что, хоть длина и не является разделяющим признаком, полезную информацию из неё можно получить."
      ]
    },
    {
      "cell_type": "markdown",
      "metadata": {
        "id": "uYoRjEi1a_UM"
      },
      "source": [
        "## Кодировка названий в one-hot"
      ]
    },
    {
      "cell_type": "markdown",
      "metadata": {
        "id": "pSvMrvvje0eE"
      },
      "source": [
        "Для удообства использования модели в будущем заменим текстовые названия классов на числа в виде унитарного кода. Его особенность в том, что в числе содержится всего одна единица, расположение которой определяет класс объекта"
      ]
    },
    {
      "cell_type": "code",
      "metadata": {
        "id": "ck6KRlJfbL9B"
      },
      "source": [
        "y = pd.get_dummies(df['v1'], drop_first = True) # определим класс для каждого сэмпла"
      ],
      "execution_count": 14,
      "outputs": []
    },
    {
      "cell_type": "code",
      "metadata": {
        "colab": {
          "base_uri": "https://localhost:8080/",
          "height": 163
        },
        "id": "1lOeaYjBbM3G",
        "outputId": "bdbf2b2b-8fd4-4f3e-ef96-8c1cfbbb85a0"
      },
      "source": [
        "y.head(3)"
      ],
      "execution_count": 15,
      "outputs": [
        {
          "output_type": "execute_result",
          "data": {
            "text/html": [
              "<div>\n",
              "<style scoped>\n",
              "    .dataframe tbody tr th:only-of-type {\n",
              "        vertical-align: middle;\n",
              "    }\n",
              "\n",
              "    .dataframe tbody tr th {\n",
              "        vertical-align: top;\n",
              "    }\n",
              "\n",
              "    .dataframe thead th {\n",
              "        text-align: right;\n",
              "    }\n",
              "</style>\n",
              "<table border=\"1\" class=\"dataframe\">\n",
              "  <thead>\n",
              "    <tr style=\"text-align: right;\">\n",
              "      <th></th>\n",
              "      <th>spam</th>\n",
              "    </tr>\n",
              "  </thead>\n",
              "  <tbody>\n",
              "    <tr>\n",
              "      <th>0</th>\n",
              "      <td>0</td>\n",
              "    </tr>\n",
              "    <tr>\n",
              "      <th>1</th>\n",
              "      <td>0</td>\n",
              "    </tr>\n",
              "    <tr>\n",
              "      <th>2</th>\n",
              "      <td>1</td>\n",
              "    </tr>\n",
              "  </tbody>\n",
              "</table>\n",
              "</div>"
            ],
            "text/plain": [
              "   spam\n",
              "0     0\n",
              "1     0\n",
              "2     1"
            ]
          },
          "metadata": {},
          "execution_count": 15
        }
      ]
    },
    {
      "cell_type": "code",
      "metadata": {
        "id": "XX8DPX8XbTjQ"
      },
      "source": [
        "df = pd.concat([df, y], axis=1) # добавим новый столбец к существующим"
      ],
      "execution_count": 16,
      "outputs": []
    },
    {
      "cell_type": "code",
      "metadata": {
        "colab": {
          "base_uri": "https://localhost:8080/",
          "height": 407
        },
        "id": "fIFjQOs0bWm4",
        "outputId": "d4faa07b-1d2b-43b2-894c-cbbb82cb404d"
      },
      "source": [
        "df.head(3)"
      ],
      "execution_count": 17,
      "outputs": [
        {
          "output_type": "execute_result",
          "data": {
            "text/html": [
              "<div>\n",
              "<style scoped>\n",
              "    .dataframe tbody tr th:only-of-type {\n",
              "        vertical-align: middle;\n",
              "    }\n",
              "\n",
              "    .dataframe tbody tr th {\n",
              "        vertical-align: top;\n",
              "    }\n",
              "\n",
              "    .dataframe thead th {\n",
              "        text-align: right;\n",
              "    }\n",
              "</style>\n",
              "<table border=\"1\" class=\"dataframe\">\n",
              "  <thead>\n",
              "    <tr style=\"text-align: right;\">\n",
              "      <th></th>\n",
              "      <th>v1</th>\n",
              "      <th>v2</th>\n",
              "      <th>length</th>\n",
              "      <th>spam</th>\n",
              "    </tr>\n",
              "  </thead>\n",
              "  <tbody>\n",
              "    <tr>\n",
              "      <th>0</th>\n",
              "      <td>ham</td>\n",
              "      <td>Go until jurong point, crazy.. Available only ...</td>\n",
              "      <td>111</td>\n",
              "      <td>0</td>\n",
              "    </tr>\n",
              "    <tr>\n",
              "      <th>1</th>\n",
              "      <td>ham</td>\n",
              "      <td>Ok lar... Joking wif u oni...</td>\n",
              "      <td>29</td>\n",
              "      <td>0</td>\n",
              "    </tr>\n",
              "    <tr>\n",
              "      <th>2</th>\n",
              "      <td>spam</td>\n",
              "      <td>Free entry in 2 a wkly comp to win FA Cup fina...</td>\n",
              "      <td>155</td>\n",
              "      <td>1</td>\n",
              "    </tr>\n",
              "  </tbody>\n",
              "</table>\n",
              "</div>"
            ],
            "text/plain": [
              "     v1                                                 v2  length  spam\n",
              "0   ham  Go until jurong point, crazy.. Available only ...     111     0\n",
              "1   ham                      Ok lar... Joking wif u oni...      29     0\n",
              "2  spam  Free entry in 2 a wkly comp to win FA Cup fina...     155     1"
            ]
          },
          "metadata": {},
          "execution_count": 17
        }
      ]
    },
    {
      "cell_type": "code",
      "metadata": {
        "id": "jaKcV9FbBA9p"
      },
      "source": [
        "df.drop('v1', axis=1, inplace=True) # и удалим лишний теперь столбец с оригинальными названиями"
      ],
      "execution_count": 18,
      "outputs": []
    },
    {
      "cell_type": "code",
      "metadata": {
        "colab": {
          "base_uri": "https://localhost:8080/",
          "height": 407
        },
        "id": "rJ2MlmRWBBAC",
        "outputId": "98e13633-276f-4406-f5fd-7809fba8bf5e"
      },
      "source": [
        "df.head(3)"
      ],
      "execution_count": 19,
      "outputs": [
        {
          "output_type": "execute_result",
          "data": {
            "text/html": [
              "<div>\n",
              "<style scoped>\n",
              "    .dataframe tbody tr th:only-of-type {\n",
              "        vertical-align: middle;\n",
              "    }\n",
              "\n",
              "    .dataframe tbody tr th {\n",
              "        vertical-align: top;\n",
              "    }\n",
              "\n",
              "    .dataframe thead th {\n",
              "        text-align: right;\n",
              "    }\n",
              "</style>\n",
              "<table border=\"1\" class=\"dataframe\">\n",
              "  <thead>\n",
              "    <tr style=\"text-align: right;\">\n",
              "      <th></th>\n",
              "      <th>v2</th>\n",
              "      <th>length</th>\n",
              "      <th>spam</th>\n",
              "    </tr>\n",
              "  </thead>\n",
              "  <tbody>\n",
              "    <tr>\n",
              "      <th>0</th>\n",
              "      <td>Go until jurong point, crazy.. Available only ...</td>\n",
              "      <td>111</td>\n",
              "      <td>0</td>\n",
              "    </tr>\n",
              "    <tr>\n",
              "      <th>1</th>\n",
              "      <td>Ok lar... Joking wif u oni...</td>\n",
              "      <td>29</td>\n",
              "      <td>0</td>\n",
              "    </tr>\n",
              "    <tr>\n",
              "      <th>2</th>\n",
              "      <td>Free entry in 2 a wkly comp to win FA Cup fina...</td>\n",
              "      <td>155</td>\n",
              "      <td>1</td>\n",
              "    </tr>\n",
              "  </tbody>\n",
              "</table>\n",
              "</div>"
            ],
            "text/plain": [
              "                                                  v2  length  spam\n",
              "0  Go until jurong point, crazy.. Available only ...     111     0\n",
              "1                      Ok lar... Joking wif u oni...      29     0\n",
              "2  Free entry in 2 a wkly comp to win FA Cup fina...     155     1"
            ]
          },
          "metadata": {},
          "execution_count": 19
        }
      ]
    },
    {
      "cell_type": "markdown",
      "metadata": {
        "id": "GnlKnIY5b9Vg"
      },
      "source": [
        "## Очистка текстовых данных"
      ]
    },
    {
      "cell_type": "markdown",
      "metadata": {
        "id": "nZQ2BUKKBoiG"
      },
      "source": [
        "Текст содержит много информации, которая будет только мешать классификации. Почистим его. Чтобы разобраться, как это делается, используем регулярные выражения, с помощью которых удалим некоторые лишние знаки, такие как:\n",
        "*   адреса электронной почты\n",
        "*   веб-адреса\n",
        "*   числа\n",
        "*   символы, обозначающие валюту\n",
        "*   знаки пунктуации\n"
      ]
    },
    {
      "cell_type": "markdown",
      "metadata": {
        "id": "JKadjLv0hyA0"
      },
      "source": [
        "Исходный текст (до обработки)"
      ]
    },
    {
      "cell_type": "code",
      "metadata": {
        "colab": {
          "base_uri": "https://localhost:8080/"
        },
        "id": "kHPLcSzwhr4E",
        "outputId": "a2b64ad5-61fe-45dc-896c-55c6989c0ef0"
      },
      "source": [
        "print(df.v2)"
      ],
      "execution_count": 20,
      "outputs": [
        {
          "output_type": "stream",
          "name": "stdout",
          "text": [
            "0       Go until jurong point, crazy.. Available only ...\n",
            "1                           Ok lar... Joking wif u oni...\n",
            "2       Free entry in 2 a wkly comp to win FA Cup fina...\n",
            "3       U dun say so early hor... U c already then say...\n",
            "4       Nah I don't think he goes to usf, he lives aro...\n",
            "                              ...                        \n",
            "5567    This is the 2nd time we have tried 2 contact u...\n",
            "5568                Will Ì_ b going to esplanade fr home?\n",
            "5569    Pity, * was in mood for that. So...any other s...\n",
            "5570    The guy did some bitching but I acted like i'd...\n",
            "5571                           Rofl. Its true to its name\n",
            "Name: v2, Length: 5572, dtype: object\n"
          ]
        }
      ]
    },
    {
      "cell_type": "code",
      "metadata": {
        "colab": {
          "base_uri": "https://localhost:8080/"
        },
        "id": "Gz5nmo9BBBCO",
        "outputId": "dd159510-591e-4c2d-e19c-ebe9ef62243e"
      },
      "source": [
        "# Замена адреса электронной почты на слово 'email'\n",
        "processed = df.v2.str.replace(r'^.+@[^\\.].*\\.[a-z]{2,}$', 'email')\n",
        "\n",
        "# Замена веб-адресов на слово 'webaddress'\n",
        "processed = processed.str.replace(r'^http\\://[a-zA-Z0-9\\-\\.]+\\.[a-zA-Z]{2,3}(/\\S*)?$', 'webaddress')\n",
        "\n",
        "# Замена символов валюты на слово 'moneysymb' (Символ \"£\" можно набрать с помощью Alt и кода 0163)\n",
        "processed = processed.str.replace(r'£|\\$', 'moneysymb')\n",
        "    \n",
        "# Замена 10-значных номеров телефонов на слово 'phonenumber' (с учётом спецсимволов)\n",
        "processed = processed.str.replace(r'^\\(?[\\d]{3}\\)?[\\s-]?[\\d]{3}[\\s-]?[\\d]{4}$', 'phonenumbr')\n",
        "    \n",
        "# Замена остальных чисел на слово 'numbr'\n",
        "processed = processed.str.replace(r'\\d+(\\.\\d+)?', 'numbr')\n",
        "\n",
        "# Удаление знаков пунктуации\n",
        "processed = processed.str.replace(r'[^\\w\\d\\s]', ' ')\n",
        "\n",
        "# Удаление лишних пробелов (замена нескольких идёщих подряд пробелов на один)\n",
        "processed = processed.str.replace(r'\\s+', ' ')\n",
        "\n",
        "# Удаление пробелов в начале и в конце\n",
        "processed = processed.str.replace(r'^\\s+|\\s+?$', '')\n",
        "\n",
        "# Приведение символов к нижнему регистру\n",
        "processed = processed.str.lower()\n",
        "\n",
        "# А теперь давайте посмотрим на то, что получилось \n",
        "print(processed[:5])"
      ],
      "execution_count": 21,
      "outputs": [
        {
          "output_type": "stream",
          "name": "stdout",
          "text": [
            "0    go until jurong point crazy available only in ...\n",
            "1                              ok lar joking wif u oni\n",
            "2    free entry in numbr a wkly comp to win fa cup ...\n",
            "3          u dun say so early hor u c already then say\n",
            "4    nah i don t think he goes to usf he lives arou...\n",
            "Name: v2, dtype: object\n"
          ]
        }
      ]
    },
    {
      "cell_type": "markdown",
      "metadata": {
        "id": "CelFvQp9MGIF"
      },
      "source": [
        "Ещё можно удалить стоп-слова. Для этого удобно использовать библиотеку NLTK"
      ]
    },
    {
      "cell_type": "code",
      "metadata": {
        "colab": {
          "base_uri": "https://localhost:8080/"
        },
        "id": "igB6ArCgBBEt",
        "outputId": "e194bf42-b341-4802-f919-ba2816a8de26"
      },
      "source": [
        "import nltk\n",
        "\n",
        "nltk.download('stopwords')\n",
        "stop_words = set(nltk.corpus.stopwords.words('english'))"
      ],
      "execution_count": 22,
      "outputs": [
        {
          "output_type": "stream",
          "name": "stdout",
          "text": [
            "[nltk_data] Downloading package stopwords to /root/nltk_data...\n",
            "[nltk_data]   Package stopwords is already up-to-date!\n"
          ]
        }
      ]
    },
    {
      "cell_type": "markdown",
      "metadata": {
        "id": "adrvCmo3iqsz"
      },
      "source": [
        "Посмотрим несколько примеров стоп-слов"
      ]
    },
    {
      "cell_type": "code",
      "metadata": {
        "colab": {
          "base_uri": "https://localhost:8080/"
        },
        "id": "Hfp4ZG6GiIZe",
        "outputId": "a1ff4c9a-31ab-4019-af45-e9f40e4e04b1"
      },
      "source": [
        "list(stop_words)[:5]"
      ],
      "execution_count": 23,
      "outputs": [
        {
          "output_type": "execute_result",
          "data": {
            "text/plain": [
              "[\"you've\", 'below', 'don', 'theirs', 'have']"
            ]
          },
          "metadata": {},
          "execution_count": 23
        }
      ]
    },
    {
      "cell_type": "markdown",
      "metadata": {
        "id": "t4wb0BvGi5Hh"
      },
      "source": [
        "Удалим все стоп-слова из текста сообщений"
      ]
    },
    {
      "cell_type": "code",
      "metadata": {
        "id": "fD_E_KnFipmU"
      },
      "source": [
        "processed = processed.apply(lambda x: ' '.join(term for term in x.split() if term not in stop_words))"
      ],
      "execution_count": 24,
      "outputs": []
    },
    {
      "cell_type": "code",
      "metadata": {
        "colab": {
          "base_uri": "https://localhost:8080/"
        },
        "id": "bceR7UvKjXbw",
        "outputId": "1202d3e3-9576-453e-9ebe-187c80793546"
      },
      "source": [
        "print(processed[:5])"
      ],
      "execution_count": 25,
      "outputs": [
        {
          "output_type": "stream",
          "name": "stdout",
          "text": [
            "0    go jurong point crazy available bugis n great ...\n",
            "1                              ok lar joking wif u oni\n",
            "2    free entry numbr wkly comp win fa cup final tk...\n",
            "3                  u dun say early hor u c already say\n",
            "4               nah think goes usf lives around though\n",
            "Name: v2, dtype: object\n"
          ]
        }
      ]
    },
    {
      "cell_type": "markdown",
      "metadata": {
        "id": "pxScGtM8MaYZ"
      },
      "source": [
        "\n",
        "Разных слов всё равно очень много. Применим стемминг - метод поиска основы слов - в надежде, что разных слов станет меньше. Для этого используем готовый модуль - PorterStemmer из уже знакомой библиотеки NLTK"
      ]
    },
    {
      "cell_type": "code",
      "metadata": {
        "id": "9Mdx_R2SMFRp"
      },
      "source": [
        "from nltk.stem import PorterStemmer\n",
        "\n",
        "ps = PorterStemmer()\n",
        "processed = processed.apply(lambda x: ' '.join(ps.stem(term) for term in x.split()))"
      ],
      "execution_count": 26,
      "outputs": []
    },
    {
      "cell_type": "code",
      "metadata": {
        "colab": {
          "base_uri": "https://localhost:8080/"
        },
        "id": "sC8Pl3N9j4y4",
        "outputId": "2291514e-0325-4503-ee9b-afbe3c22ed47"
      },
      "source": [
        "print(processed[:5])"
      ],
      "execution_count": 27,
      "outputs": [
        {
          "output_type": "stream",
          "name": "stdout",
          "text": [
            "0    go jurong point crazi avail bugi n great world...\n",
            "1                                ok lar joke wif u oni\n",
            "2    free entri numbr wkli comp win fa cup final tk...\n",
            "3                  u dun say earli hor u c alreadi say\n",
            "4                 nah think goe usf live around though\n",
            "Name: v2, dtype: object\n"
          ]
        }
      ]
    },
    {
      "cell_type": "markdown",
      "metadata": {
        "id": "AXyG1KNeMfRT"
      },
      "source": [
        "## Создение признаков"
      ]
    },
    {
      "cell_type": "markdown",
      "metadata": {
        "id": "UqUGayBnMikN"
      },
      "source": [
        "Данных много, и к тому же, они категориальные, а большинство моделей ML использует только числовые характеристики. Поэтому используем подход \"Bag of words\", который поможет извлечь числовые признаки из текстовых данных\n",
        "\n",
        "Для этого снова используем готовый модуль - Scikit learn, и с его помощью выберем 1500 самых часто встречающихся слов, для которых сделаем разметку\n"
      ]
    },
    {
      "cell_type": "code",
      "metadata": {
        "id": "kL3oyC9vMFTm"
      },
      "source": [
        "from sklearn.feature_extraction.text import CountVectorizer\n",
        "\n",
        "cv = CountVectorizer(max_features=1500) # 1500 слов в виде признаков \n",
        "X = cv.fit_transform(processed).toarray() "
      ],
      "execution_count": 28,
      "outputs": []
    },
    {
      "cell_type": "markdown",
      "metadata": {
        "id": "MCC43OjTOfiS"
      },
      "source": [
        "Если посмотреть на Х, видно, что количество сэмплов осталось прежним, а признаков стало 1500 - это самые популярные слова"
      ]
    },
    {
      "cell_type": "code",
      "metadata": {
        "colab": {
          "base_uri": "https://localhost:8080/"
        },
        "id": "QUiNmbvYMFWF",
        "outputId": "62b7db2e-8152-4dd2-e578-8f4ee49bb659"
      },
      "source": [
        "X.shape"
      ],
      "execution_count": 29,
      "outputs": [
        {
          "output_type": "execute_result",
          "data": {
            "text/plain": [
              "(5572, 1500)"
            ]
          },
          "metadata": {},
          "execution_count": 29
        }
      ]
    },
    {
      "cell_type": "markdown",
      "metadata": {
        "id": "iH6Y2TLLmHmX"
      },
      "source": [
        "## Тренировочный и тестовый датасеты"
      ]
    },
    {
      "cell_type": "markdown",
      "metadata": {
        "id": "T1tw-gsCOjX-"
      },
      "source": [
        "Разделим данные на тестовую и тренировочную части, причём доля тренировочной составит 20%"
      ]
    },
    {
      "cell_type": "code",
      "metadata": {
        "id": "SRocyG4fMFYZ"
      },
      "source": [
        "from sklearn.model_selection import train_test_split\n",
        "\n",
        "# Divide our data into train and test\n",
        "X_train, X_test, y_train, y_test = train_test_split(X, y, test_size=0.20, random_state=42)"
      ],
      "execution_count": 30,
      "outputs": []
    },
    {
      "cell_type": "code",
      "metadata": {
        "colab": {
          "base_uri": "https://localhost:8080/"
        },
        "id": "ZPf5srfAmQG9",
        "outputId": "35282ddb-0416-452c-95d3-d7306d921ab3"
      },
      "source": [
        "print(X_train.shape, X_test.shape)"
      ],
      "execution_count": 31,
      "outputs": [
        {
          "output_type": "stream",
          "name": "stdout",
          "text": [
            "(4457, 1500) (1115, 1500)\n"
          ]
        }
      ]
    },
    {
      "cell_type": "markdown",
      "metadata": {
        "id": "fkjRPlk7Oxlf"
      },
      "source": [
        "# Создание модели"
      ]
    },
    {
      "cell_type": "markdown",
      "metadata": {
        "id": "3uwh5ECSmbQD"
      },
      "source": [
        "## Готовая модель из библиотеки"
      ]
    },
    {
      "cell_type": "markdown",
      "metadata": {
        "id": "Y6vkx8LxmhwW"
      },
      "source": [
        "Для того,чтобы посмотреть, как работает готовая модель, используем верхнеуровневые функции"
      ]
    },
    {
      "cell_type": "code",
      "metadata": {
        "id": "TsA2N504MFau"
      },
      "source": [
        "from sklearn.neighbors import KNeighborsClassifier # импорт модели из модуля\n",
        "knn = KNeighborsClassifier(n_neighbors = 1) # инициализация модели (с заданными гиперпараметрами)\n",
        "knn.fit(X_train, y_train.values.ravel()) # обучение на тренировочных данных\n",
        "pred = knn.predict(X_test) # и, наконец, предсказение тестовых данных"
      ],
      "execution_count": 32,
      "outputs": []
    },
    {
      "cell_type": "markdown",
      "metadata": {
        "id": "6KMAqoXKm32E"
      },
      "source": [
        "Посмотрим, что получилось с предсказанием. Используем стандартные метрики - точностьт, полноту и F1-меру"
      ]
    },
    {
      "cell_type": "code",
      "metadata": {
        "colab": {
          "base_uri": "https://localhost:8080/"
        },
        "id": "VbibO1iGMFiX",
        "outputId": "db3814d0-d4db-4712-fd58-e3e2a57f1670"
      },
      "source": [
        "from sklearn.metrics import classification_report, accuracy_score, confusion_matrix\n",
        "\n",
        "print('Accuracy: {}% \\n'.format(accuracy_score(y_test, pred) * 100)) # количество правильных предсказаний в %\n",
        "print(confusion_matrix(y_test, pred)) # матрица, отображающиая ошибки 1 и 2 рода\n",
        "print(classification_report(y_test, pred))"
      ],
      "execution_count": 33,
      "outputs": [
        {
          "output_type": "stream",
          "name": "stdout",
          "text": [
            "Accuracy: 96.7713004484305% \n",
            "\n",
            "[[957   8]\n",
            " [ 28 122]]\n",
            "              precision    recall  f1-score   support\n",
            "\n",
            "           0       0.97      0.99      0.98       965\n",
            "           1       0.94      0.81      0.87       150\n",
            "\n",
            "    accuracy                           0.97      1115\n",
            "   macro avg       0.96      0.90      0.93      1115\n",
            "weighted avg       0.97      0.97      0.97      1115\n",
            "\n"
          ]
        }
      ]
    },
    {
      "cell_type": "markdown",
      "metadata": {
        "id": "sqIi2iYxPJT2"
      },
      "source": [
        "## А теперь надо реализовать KNN самостоятельно..."
      ]
    },
    {
      "cell_type": "markdown",
      "metadata": {
        "id": "GdE03mHXqCAJ"
      },
      "source": [
        "Подробности (и, при необходимости, подсказки), можно посмотреть по ссылкам ниже или в любом удобном источнике:\n",
        "*   https://realpython.com/knn-python/\n",
        "*   https://machinelearningmastery.com/tutorial-to-implement-k-nearest-neighbors-in-python-from-scratch/"
      ]
    },
    {
      "cell_type": "code",
      "metadata": {
        "id": "a-i1_NOEMFkq"
      },
      "source": [
        "class KNN:\n",
        "    \"\"\"\n",
        "    Классификатор К-ближайших соседей\n",
        "    \"\"\"\n",
        "    def __init__(self, k=1):\n",
        "        self.k = k\n",
        "\n",
        "    def fit(self, X, y):\n",
        "        self.train_X = X\n",
        "        self.train_y = y\n",
        "\n",
        "    def predict(self, X):\n",
        "        '''\n",
        "        Использует модель KNN для прогнозирования классов предоставленных данных\n",
        "        Arguments:\n",
        "          X, np array (num_samples, num_features) - исходные данные для предсказания\n",
        "        Returns:\n",
        "          predictions, np array of ints (num_samples) - предсказанные классы для каждого из X\n",
        "        '''\n",
        "        dists = self.compute_distances(X)\n",
        "        return self.predict_labels_binary(dists)\n",
        "\n",
        "    def compute_distances(self, X):\n",
        "        '''\n",
        "        Вычисляет расстояние от X до обучающей выборки\n",
        "        Arguments:\n",
        "          X, np array (num_test_samples, num_features) - сэмплы для обработки\n",
        "        Returns:\n",
        "          dists, np array (num_test_samples, num_train_samples) - список с расстояниями\n",
        "            от каждого тестового сэмпла до каждого тренировочного\n",
        "        '''\n",
        "        num_train = self.train_X.shape[0]\n",
        "        num_test = X.shape[0]\n",
        "        dists = np.zeros((num_test, num_train), np.float32)\n",
        "        dists = np.sum(np.abs(np.float32(X[:, np.newaxis] - self.train_X)), axis=2)\n",
        "        return dists\n",
        "\n",
        "    def predict_labels_binary(self, dists):\n",
        "        '''\n",
        "        Возвращает предсказания модели для бинарной классификации\n",
        "        Arguments:\n",
        "        dists, np array (num_test_samples, num_train_samples) - список с расстояниями\n",
        "            от каждого тестового сэмпла до каждого тренировочного\n",
        "        Returns:\n",
        "          pred, np array of bool (num_test_samples) - предсказания для каждого сэмпла \n",
        "        '''\n",
        "        num_test = dists.shape[0]\n",
        "        pred = np.zeros(num_test, np.bool)\n",
        "        for i in range(num_test):\n",
        "            y_nearest = [] # список узлов, которые ближе всего\n",
        "            dist = dists[i] # расстояния до ближайших train узлов\n",
        "            tmp = list(dist)\n",
        "            tmp_sorted = sorted(tmp)\n",
        "            for k in range(self.k): # для каждого из ближайших\n",
        "                y_nearest.append(tmp.index(tmp_sorted[k])) # дописываем № наименьшего\n",
        "            pred[i] = np.argmax(np.bincount(y_nearest)) # самый частый номер из наименьших\n",
        "        return pred\n"
      ],
      "execution_count": 34,
      "outputs": []
    },
    {
      "cell_type": "markdown",
      "metadata": {
        "id": "k_n9_51hnj-G"
      },
      "source": [
        "Теперь, когда классификатор написан, можно его обучить"
      ]
    },
    {
      "cell_type": "code",
      "metadata": {
        "id": "087ba5hEMFm-"
      },
      "source": [
        "knn_classifier = KNN(k=1) # начнём с присвоения класса по ближайшему соседу\n",
        "knn_classifier.fit(X_train, y_train.values.ravel())"
      ],
      "execution_count": 35,
      "outputs": []
    },
    {
      "cell_type": "markdown",
      "metadata": {
        "id": "ScaSQq18nlvx"
      },
      "source": [
        "И сделать предсказание (это может занять некоторое время, поэтому попробуем на части датасета)"
      ]
    },
    {
      "cell_type": "code",
      "metadata": {
        "id": "BoHbh6zuMFpV"
      },
      "source": [
        "pred = knn_classifier.predict(X_test[:100])"
      ],
      "execution_count": 36,
      "outputs": []
    },
    {
      "cell_type": "code",
      "metadata": {
        "colab": {
          "base_uri": "https://localhost:8080/"
        },
        "id": "8081FrcQMFrs",
        "outputId": "e6d8403a-190a-44c2-d5f4-b78ccbd5c697"
      },
      "source": [
        "print('Accuracy: {}% \\n'.format(accuracy_score(y_test[:100], pred) * 100))\n",
        "print(confusion_matrix(y_test[:100], pred))\n",
        "print(classification_report(y_test[:100], pred))"
      ],
      "execution_count": 37,
      "outputs": [
        {
          "output_type": "stream",
          "name": "stdout",
          "text": [
            "Accuracy: 12.0% \n",
            "\n",
            "[[ 0 88]\n",
            " [ 0 12]]\n",
            "              precision    recall  f1-score   support\n",
            "\n",
            "           0       0.00      0.00      0.00        88\n",
            "           1       0.12      1.00      0.21        12\n",
            "\n",
            "    accuracy                           0.12       100\n",
            "   macro avg       0.06      0.50      0.11       100\n",
            "weighted avg       0.01      0.12      0.03       100\n",
            "\n"
          ]
        },
        {
          "output_type": "stream",
          "name": "stderr",
          "text": [
            "/usr/local/lib/python3.7/dist-packages/sklearn/metrics/_classification.py:1308: UndefinedMetricWarning: Precision and F-score are ill-defined and being set to 0.0 in labels with no predicted samples. Use `zero_division` parameter to control this behavior.\n",
            "  _warn_prf(average, modifier, msg_start, len(result))\n",
            "/usr/local/lib/python3.7/dist-packages/sklearn/metrics/_classification.py:1308: UndefinedMetricWarning: Precision and F-score are ill-defined and being set to 0.0 in labels with no predicted samples. Use `zero_division` parameter to control this behavior.\n",
            "  _warn_prf(average, modifier, msg_start, len(result))\n",
            "/usr/local/lib/python3.7/dist-packages/sklearn/metrics/_classification.py:1308: UndefinedMetricWarning: Precision and F-score are ill-defined and being set to 0.0 in labels with no predicted samples. Use `zero_division` parameter to control this behavior.\n",
            "  _warn_prf(average, modifier, msg_start, len(result))\n"
          ]
        }
      ]
    },
    {
      "cell_type": "markdown",
      "metadata": {
        "id": "AC0MmXP7oRmW"
      },
      "source": [
        "## Тюнинг классификатора"
      ]
    },
    {
      "cell_type": "markdown",
      "metadata": {
        "id": "XLwfcB0Wlk67"
      },
      "source": [
        "Что можно сделать для увеличения точности?\n",
        "\n",
        "Поэкспериментировать с данными - например, добавить признак \"длина текстового сообщения\", который был вычислен, но не участвовал в обучении и предсказании.\n",
        "Исследовать другой набор гиперпараметров или другую архитектуру модели.\n",
        "\n",
        "\n",
        "Попробуйте поднять точность работы Вашей модели"
      ]
    },
    {
      "cell_type": "code",
      "metadata": {
        "id": "eyGgTcZ8A0D2"
      },
      "source": [
        "knn_classifier = KNN(k=1) # измените здесь количество соседей, например\n",
        "knn_classifier.fit(X_train, y_train.values.ravel())"
      ],
      "execution_count": 37,
      "outputs": []
    },
    {
      "cell_type": "code",
      "metadata": {
        "id": "EMhNkG1G_2On"
      },
      "source": [
        "# а здесь можно добавить новый признак к данным"
      ],
      "execution_count": 39,
      "outputs": []
    },
    {
      "cell_type": "code",
      "metadata": {
        "id": "y5I_yR7s_2Q9"
      },
      "source": [
        ""
      ],
      "execution_count": 37,
      "outputs": []
    }
  ]
}