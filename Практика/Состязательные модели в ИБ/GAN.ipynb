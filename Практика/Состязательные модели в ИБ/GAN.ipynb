{
 "cells": [
  {
   "cell_type": "code",
   "execution_count": 1,
   "metadata": {
    "id": "Zuk5TFCsQq6f"
   },
   "outputs": [],
   "source": [
    "import tensorflow as tf\n",
    "import tensorflow.keras.layers as L\n",
    "from tensorflow.keras.models import Sequential, Model\n",
    "from tensorflow.keras.datasets import mnist"
   ]
  },
  {
   "cell_type": "code",
   "execution_count": 2,
   "metadata": {
    "id": "GpRfPcs3Q_3A"
   },
   "outputs": [],
   "source": [
    "import matplotlib.pyplot as plt\n",
    "import numpy as np"
   ]
  },
  {
   "cell_type": "markdown",
   "metadata": {
    "id": "lhtNqSoGRZcf"
   },
   "source": [
    "# Загрузка и предобработка данных"
   ]
  },
  {
   "cell_type": "code",
   "execution_count": 3,
   "metadata": {
    "id": "gjFLaI6sRRJe"
   },
   "outputs": [],
   "source": [
    "(X_train, _), (_, _) = mnist.load_data()"
   ]
  },
  {
   "cell_type": "code",
   "execution_count": 4,
   "metadata": {
    "colab": {
     "base_uri": "https://localhost:8080/"
    },
    "id": "S0eqfKN5RVhN",
    "outputId": "2c33a048-60b3-4e83-bcd3-c3b09385af95"
   },
   "outputs": [
    {
     "data": {
      "text/plain": [
       "(60000, 28, 28)"
      ]
     },
     "execution_count": 4,
     "metadata": {},
     "output_type": "execute_result"
    }
   ],
   "source": [
    "X_train.shape"
   ]
  },
  {
   "cell_type": "code",
   "execution_count": 5,
   "metadata": {
    "colab": {
     "base_uri": "https://localhost:8080/"
    },
    "id": "mjvzIjhgRXWl",
    "outputId": "7f259876-0843-4c22-e74c-936b087e23bb"
   },
   "outputs": [
    {
     "data": {
      "text/plain": [
       "((60000, 784), 1.0, -1.0)"
      ]
     },
     "execution_count": 5,
     "metadata": {},
     "output_type": "execute_result"
    }
   ],
   "source": [
    "X_train_p = (X_train.astype(np.float32) - 127.5) / 127.5\n",
    "X_train_p = X_train_p.reshape(X_train.shape[0], -1)\n",
    "X_train_p.shape, np.max(X_train_p), np.min(X_train_p)"
   ]
  },
  {
   "cell_type": "markdown",
   "metadata": {
    "id": "tdZXRxD3RcnB"
   },
   "source": [
    "# Постройка модели"
   ]
  },
  {
   "cell_type": "code",
   "execution_count": 6,
   "metadata": {
    "id": "eN7p0oIVRiBt"
   },
   "outputs": [],
   "source": [
    "RANDOM_SIZE = 100\n",
    "IMG_SIZE = 784"
   ]
  },
  {
   "cell_type": "code",
   "execution_count": 7,
   "metadata": {
    "id": "N68nzkxY-xtm"
   },
   "outputs": [],
   "source": [
    "adam = tf.keras.optimizers.Adam(learning_rate=0.0002, beta_1=0.5)"
   ]
  },
  {
   "cell_type": "code",
   "execution_count": 8,
   "metadata": {
    "id": "rcLalPItRfdt"
   },
   "outputs": [],
   "source": [
    "generator = Sequential()\n",
    "generator.add(L.Dense(256, input_dim=RANDOM_SIZE))\n",
    "generator.add(L.LeakyReLU(0.2))\n",
    "generator.add(L.Dense(512))\n",
    "generator.add(L.LeakyReLU(0.2))\n",
    "generator.add(L.Dense(1024))\n",
    "generator.add(L.LeakyReLU(0.2))\n",
    "generator.add(L.Dense(784, activation='tanh'))\n",
    "generator.compile(loss='binary_crossentropy', optimizer=adam)"
   ]
  },
  {
   "cell_type": "code",
   "execution_count": 9,
   "metadata": {
    "id": "Re7-1FreSDUE"
   },
   "outputs": [],
   "source": [
    "discriminator = Sequential()\n",
    "discriminator.add(L.Dense(1024, input_dim=IMG_SIZE))\n",
    "discriminator.add(L.LeakyReLU(0.2))\n",
    "discriminator.add(L.Dropout(0.3))\n",
    "discriminator.add(L.Dense(512))\n",
    "discriminator.add(L.LeakyReLU(0.2))\n",
    "discriminator.add(L.Dropout(0.3))\n",
    "discriminator.add(L.Dense(256))\n",
    "discriminator.add(L.LeakyReLU(0.2))\n",
    "discriminator.add(L.Dropout(0.3))\n",
    "discriminator.add(L.Dense(1, activation='sigmoid'))\n",
    "discriminator.compile(loss='binary_crossentropy', optimizer=adam)"
   ]
  },
  {
   "cell_type": "code",
   "execution_count": 10,
   "metadata": {
    "id": "Q7nzVIOETIp8"
   },
   "outputs": [],
   "source": [
    "discriminator.trainable = False\n",
    "ganInput = L.Input(shape=(RANDOM_SIZE,))\n",
    "x = generator(ganInput)\n",
    "ganOutput = discriminator(x)\n",
    "gan = Model(inputs=ganInput, outputs=ganOutput)"
   ]
  },
  {
   "cell_type": "code",
   "execution_count": 11,
   "metadata": {
    "id": "Q7nzVIOETIp8"
   },
   "outputs": [],
   "source": [
    "gan.compile(loss='binary_crossentropy', optimizer=adam)"
   ]
  },
  {
   "cell_type": "code",
   "execution_count": 12,
   "metadata": {
    "id": "YFSCEgh5UhIJ"
   },
   "outputs": [],
   "source": [
    "def train(epochs=1, batch_size=128):\n",
    " \n",
    "  batchCount = int(X_train_p.shape[0] / batch_size)\n",
    "\n",
    "  for epoch in range(1, epochs+1):\n",
    "    print(\"-\"*10, \"Epoch: {}\".format(epoch), \"-\"*10)\n",
    "\n",
    "    for _ in range(batchCount):\n",
    "      # обучение дискриминатора\n",
    "      idxs = np.random.choice(len(X_train_p), size=batch_size, replace=False)\n",
    "      fake = generator.predict(np.random.normal(0, 1, size=(batch_size, RANDOM_SIZE)))\n",
    "      labels = np.r_[np.ones(shape=batch_size)*0.95, np.zeros(shape=batch_size)]\n",
    "      X = np.r_[X_train_p[idxs], fake]\n",
    "      discriminator.trainable = True\n",
    "      dloss = discriminator.train_on_batch(X, labels)\n",
    "\n",
    "      # обучение генератора\n",
    "      labels = np.ones(shape=batch_size)\n",
    "      X = np.random.normal(0, 1, size=(batch_size, RANDOM_SIZE))\n",
    "      discriminator.trainable = False\n",
    "      gloss = gan.train_on_batch(X, labels)\n",
    "\n",
    "    # оценка ошибок и периодическое сохранение картинок\n",
    "    gLoss.append(gloss)\n",
    "    dLoss.append(dloss)\n",
    "\n",
    "    if epoch % 4 == 0:\n",
    "      print(\"Эпоха {}\".format(epoch))\n",
    "      print(\"gloss {}, dloss {}\".format(gloss, dloss))\n",
    "      noise = np.random.normal(0, 1, size=(1, RANDOM_SIZE))\n",
    "      imgs = generator.predict(noise)      \n",
    "      plt.imshow(imgs.reshape(28,28))\n",
    "      plt.savefig(\"./img-{}\".format(epoch))\n",
    "      discriminator.save(\"./discriminator.h5\")\n",
    "      generator.save(\"./generator.h5\")"
   ]
  },
  {
   "cell_type": "code",
   "execution_count": 13,
   "metadata": {},
   "outputs": [],
   "source": [
    "generator.load_weights(\"./generator-epoch-90.h5\")\n",
    "discriminator.load_weights(\"./discriminator-epoch-90.h5\")"
   ]
  },
  {
   "cell_type": "code",
   "execution_count": 14,
   "metadata": {
    "colab": {
     "base_uri": "https://localhost:8080/",
     "height": 810
    },
    "id": "oZLU1SN5xZcw",
    "outputId": "4c64d5e1-e9ec-4cdc-bb2a-8846848327e8"
   },
   "outputs": [
    {
     "name": "stdout",
     "output_type": "stream",
     "text": [
      "---------- Epoch: 1 ----------\n",
      "---------- Epoch: 2 ----------\n",
      "---------- Epoch: 3 ----------\n",
      "---------- Epoch: 4 ----------\n",
      "Эпоха 4\n",
      "gloss 1.0471837520599365, dloss 0.6162290573120117\n",
      "---------- Epoch: 5 ----------\n",
      "---------- Epoch: 6 ----------\n",
      "---------- Epoch: 7 ----------\n",
      "---------- Epoch: 8 ----------\n",
      "Эпоха 8\n",
      "gloss 0.8099971413612366, dloss 0.6443167924880981\n",
      "---------- Epoch: 9 ----------\n",
      "---------- Epoch: 10 ----------\n",
      "---------- Epoch: 11 ----------\n",
      "---------- Epoch: 12 ----------\n",
      "Эпоха 12\n",
      "gloss 0.8853727579116821, dloss 0.641223669052124\n",
      "---------- Epoch: 13 ----------\n",
      "---------- Epoch: 14 ----------\n",
      "---------- Epoch: 15 ----------\n",
      "---------- Epoch: 16 ----------\n",
      "Эпоха 16\n",
      "gloss 0.9881061315536499, dloss 0.6627048254013062\n",
      "---------- Epoch: 17 ----------\n",
      "---------- Epoch: 18 ----------\n",
      "---------- Epoch: 19 ----------\n",
      "---------- Epoch: 20 ----------\n",
      "Эпоха 20\n",
      "gloss 1.023375391960144, dloss 0.6322528123855591\n"
     ]
    },
    {
     "data": {
      "image/png": "[encoded data removed]",
      "text/plain": [
       "<Figure size 432x288 with 1 Axes>"
      ]
     },
     "metadata": {
      "needs_background": "light"
     },
     "output_type": "display_data"
    }
   ],
   "source": [
    "dLoss = []\n",
    "gLoss = []\n",
    "train(20, 128)"
   ]
  },
  {
   "cell_type": "code",
   "execution_count": 15,
   "metadata": {
    "colab": {
     "base_uri": "https://localhost:8080/",
     "height": 207
    },
    "id": "2636c8vaxkjO",
    "outputId": "ea2d6403-0f41-4136-e2b9-7e33794cae9b"
   },
   "outputs": [
    {
     "data": {
      "image/png": "[encoded data removed]",
      "text/plain": [
       "<Figure size 432x288 with 1 Axes>"
      ]
     },
     "metadata": {
      "needs_background": "light"
     },
     "output_type": "display_data"
    }
   ],
   "source": [
    "plt.plot(gLoss, label=\"generator loss\")\n",
    "plt.plot(dLoss, label=\"discriminator loss\")\n",
    "plt.show()"
   ]
  },
  {
   "cell_type": "code",
   "execution_count": 16,
   "metadata": {},
   "outputs": [
    {
     "name": "stdout",
     "output_type": "stream",
     "text": [
      "discriminator-epoch-10.h5  discriminator-epoch-60.h5  generator-epoch-40.h5\r\n",
      "discriminator-epoch-15.h5  discriminator-epoch-65.h5  generator-epoch-45.h5\r\n",
      "discriminator-epoch-1.h5   discriminator-epoch-70.h5  generator-epoch-50.h5\r\n",
      "discriminator-epoch-20.h5  discriminator-epoch-80.h5  generator-epoch-55.h5\r\n",
      "discriminator-epoch-25.h5  discriminator-epoch-90.h5  generator-epoch-5.h5\r\n",
      "discriminator-epoch-30.h5  generator-epoch-10.h5      generator-epoch-60.h5\r\n",
      "discriminator-epoch-35.h5  generator-epoch-15.h5      generator-epoch-65.h5\r\n",
      "discriminator-epoch-40.h5  generator-epoch-1.h5       generator-epoch-70.h5\r\n",
      "discriminator-epoch-45.h5  generator-epoch-20.h5      generator-epoch-80.h5\r\n",
      "discriminator-epoch-50.h5  generator-epoch-25.h5      generator-epoch-90.h5\r\n",
      "discriminator-epoch-55.h5  generator-epoch-30.h5\r\n",
      "discriminator-epoch-5.h5   generator-epoch-35.h5\r\n"
     ]
    }
   ],
   "source": [
    "!ls *epoch*"
   ]
  },
  {
   "cell_type": "markdown",
   "metadata": {
    "id": "s1VqS5dZK72d"
   },
   "source": [
    "### Анализ полученных результатов"
   ]
  },
  {
   "cell_type": "code",
   "execution_count": 17,
   "metadata": {
    "colab": {
     "base_uri": "https://localhost:8080/",
     "height": 248
    },
    "id": "13ci9g-VLuJm",
    "outputId": "3a50ecb9-b5f5-4781-e66a-05b1be203f95"
   },
   "outputs": [],
   "source": [
    "generator.load_weights(\"./generator-epoch-90.h5\")"
   ]
  },
  {
   "cell_type": "code",
   "execution_count": 18,
   "metadata": {
    "colab": {
     "base_uri": "https://localhost:8080/",
     "height": 248
    },
    "id": "13ci9g-VLuJm",
    "outputId": "3a50ecb9-b5f5-4781-e66a-05b1be203f95"
   },
   "outputs": [
    {
     "data": {
      "image/png": "[encoded data removed]",
      "text/plain": [
       "<Figure size 432x288 with 1 Axes>"
      ]
     },
     "metadata": {
      "needs_background": "light"
     },
     "output_type": "display_data"
    }
   ],
   "source": [
    "result = generator.predict(np.random.normal(0,1, size=(1,RANDOM_SIZE)))\n",
    "plt.imshow(result.reshape(28,28), cmap='gray')\n",
    "plt.axis(\"off\")\n",
    "plt.show()"
   ]
  },
  {
   "cell_type": "markdown",
   "metadata": {},
   "source": [
    "# Генерация временных рядов"
   ]
  },
  {
   "cell_type": "code",
   "execution_count": 19,
   "metadata": {},
   "outputs": [],
   "source": [
    "RANDOM_SIZE = 128"
   ]
  },
  {
   "cell_type": "code",
   "execution_count": 20,
   "metadata": {},
   "outputs": [
    {
     "data": {
      "image/png": "[encoded data removed]",
      "text/plain": [
       "<Figure size 1440x216 with 1 Axes>"
      ]
     },
     "metadata": {
      "needs_background": "light"
     },
     "output_type": "display_data"
    }
   ],
   "source": [
    "xs = np.linspace(0, 100, 1000)\n",
    "ys = 0.5*np.sin(xs) + 0.5*np.sin(2*xs)\n",
    "\n",
    "plt.figure(figsize=(20,3))\n",
    "plt.scatter(xs, ys)\n",
    "plt.show()"
   ]
  },
  {
   "cell_type": "code",
   "execution_count": 21,
   "metadata": {
    "id": "N68nzkxY-xtm"
   },
   "outputs": [],
   "source": [
    "adam = tf.keras.optimizers.Adam(learning_rate=0.0002, beta_1=0.5)"
   ]
  },
  {
   "cell_type": "code",
   "execution_count": 22,
   "metadata": {
    "id": "rcLalPItRfdt"
   },
   "outputs": [],
   "source": [
    "g_ = Sequential()\n",
    "g_.add(L.Dense(256, input_dim=RANDOM_SIZE))\n",
    "g_.add(L.LeakyReLU(0.2))\n",
    "g_.add(L.Dense(512))\n",
    "g_.add(L.LeakyReLU(0.2))\n",
    "g_.add(L.Dense(1024))\n",
    "g_.add(L.LeakyReLU(0.2))\n",
    "g_.add(L.Dense(128, activation='tanh'))\n",
    "g_.compile(loss='binary_crossentropy', optimizer=adam)"
   ]
  },
  {
   "cell_type": "code",
   "execution_count": 23,
   "metadata": {
    "id": "Re7-1FreSDUE"
   },
   "outputs": [],
   "source": [
    "d_ = Sequential()\n",
    "d_.add(L.Dense(1024, input_dim=128))\n",
    "d_.add(L.LeakyReLU(0.2))\n",
    "d_.add(L.Dropout(0.3))\n",
    "d_.add(L.Dense(512))\n",
    "d_.add(L.LeakyReLU(0.2))\n",
    "d_.add(L.Dropout(0.3))\n",
    "d_.add(L.Dense(256))\n",
    "d_.add(L.LeakyReLU(0.2))\n",
    "d_.add(L.Dropout(0.3))\n",
    "d_.add(L.Dense(1, activation='sigmoid'))\n",
    "d_.compile(loss='binary_crossentropy', optimizer=adam)"
   ]
  },
  {
   "cell_type": "code",
   "execution_count": 24,
   "metadata": {
    "id": "Q7nzVIOETIp8"
   },
   "outputs": [],
   "source": [
    "d_.trainable = False\n",
    "ganInput = L.Input(shape=(RANDOM_SIZE,))\n",
    "x = g_(ganInput)\n",
    "ganOutput = d_(x)\n",
    "gan = Model(inputs=ganInput, outputs=ganOutput)"
   ]
  },
  {
   "cell_type": "code",
   "execution_count": 25,
   "metadata": {
    "id": "Q7nzVIOETIp8"
   },
   "outputs": [],
   "source": [
    "gan.compile(loss='binary_crossentropy', optimizer=adam)"
   ]
  },
  {
   "cell_type": "code",
   "execution_count": 54,
   "metadata": {
    "id": "YFSCEgh5UhIJ"
   },
   "outputs": [],
   "source": [
    "def train(data, epochs=100, batch_size=128):\n",
    " \n",
    "    batchCount = int(data.shape[0] / batch_size)    \n",
    "    for epoch in range(1, epochs+1):\n",
    "        print(\"-\"*10, \"Epoch: {}\".format(epoch), \"-\"*10)\n",
    "\n",
    "        for _ in range(batchCount):\n",
    "            # обучение дискриминатора\n",
    "            idxs = np.random.choice(len(data)-128, size=batch_size, replace=False)\n",
    "            fake = g_.predict(np.random.normal(0, 1, size=(batch_size, RANDOM_SIZE)))\n",
    "            labels = np.r_[np.ones(shape=batch_size)*0.95, np.zeros(shape=batch_size)]\n",
    "            X = np.r_[[data[idx:idx+128] for idx in idxs], fake]\n",
    "            d_.trainable = True\n",
    "            dloss = d_.train_on_batch(X, labels)\n",
    "    \n",
    "            # обучение генератора\n",
    "            labels = np.ones(shape=batch_size)\n",
    "            X = np.random.normal(0, 1, size=(batch_size, RANDOM_SIZE))\n",
    "            d_.trainable = False\n",
    "            gloss = gan.train_on_batch(X, labels)\n",
    "    \n",
    "            # оценка ошибок и периодическое сохранение картинок\n",
    "            gLoss.append(gloss)\n",
    "            dLoss.append(dloss)\n",
    "\n",
    "        if epoch % 10 == 0:\n",
    "            print(\"Эпоха {}\".format(epoch))\n",
    "            print(\"gloss {}, dloss {}\".format(gloss, dloss))\n",
    "            noise = np.random.normal(0, 1, size=(1, RANDOM_SIZE))\n",
    "            imgs = g_.predict(noise)\n",
    "            plt.plot(imgs)\n",
    "            plt.savefig(\"./img-{}\".format(epoch))\n",
    "            discriminator.save(\"./discriminator.h5\")\n",
    "            generator.save(\"./generator.h5\")\n",
    "            "
   ]
  },
  {
   "cell_type": "code",
   "execution_count": 55,
   "metadata": {},
   "outputs": [
    {
     "name": "stdout",
     "output_type": "stream",
     "text": [
      "---------- Epoch: 1 ----------\n",
      "---------- Epoch: 2 ----------\n",
      "---------- Epoch: 3 ----------\n",
      "---------- Epoch: 4 ----------\n",
      "---------- Epoch: 5 ----------\n",
      "---------- Epoch: 6 ----------\n",
      "---------- Epoch: 7 ----------\n",
      "---------- Epoch: 8 ----------\n",
      "---------- Epoch: 9 ----------\n",
      "---------- Epoch: 10 ----------\n",
      "Эпоха 10\n",
      "gloss 1.765181303024292, dloss 0.33900436758995056\n",
      "---------- Epoch: 11 ----------\n",
      "---------- Epoch: 12 ----------\n",
      "---------- Epoch: 13 ----------\n",
      "---------- Epoch: 14 ----------\n",
      "---------- Epoch: 15 ----------\n",
      "---------- Epoch: 16 ----------\n",
      "---------- Epoch: 17 ----------\n",
      "---------- Epoch: 18 ----------\n",
      "---------- Epoch: 19 ----------\n",
      "---------- Epoch: 20 ----------\n",
      "Эпоха 20\n",
      "gloss 1.4803638458251953, dloss 0.34783291816711426\n",
      "---------- Epoch: 21 ----------\n",
      "---------- Epoch: 22 ----------\n",
      "---------- Epoch: 23 ----------\n",
      "---------- Epoch: 24 ----------\n",
      "---------- Epoch: 25 ----------\n",
      "---------- Epoch: 26 ----------\n",
      "---------- Epoch: 27 ----------\n",
      "---------- Epoch: 28 ----------\n",
      "---------- Epoch: 29 ----------\n",
      "---------- Epoch: 30 ----------\n",
      "Эпоха 30\n",
      "gloss 2.348240852355957, dloss 0.4003164768218994\n",
      "---------- Epoch: 31 ----------\n",
      "---------- Epoch: 32 ----------\n",
      "---------- Epoch: 33 ----------\n",
      "---------- Epoch: 34 ----------\n",
      "---------- Epoch: 35 ----------\n",
      "---------- Epoch: 36 ----------\n",
      "---------- Epoch: 37 ----------\n",
      "---------- Epoch: 38 ----------\n",
      "---------- Epoch: 39 ----------\n",
      "---------- Epoch: 40 ----------\n",
      "Эпоха 40\n",
      "gloss 2.5940585136413574, dloss 0.4201512336730957\n",
      "---------- Epoch: 41 ----------\n",
      "---------- Epoch: 42 ----------\n",
      "---------- Epoch: 43 ----------\n",
      "---------- Epoch: 44 ----------\n",
      "---------- Epoch: 45 ----------\n",
      "---------- Epoch: 46 ----------\n",
      "---------- Epoch: 47 ----------\n",
      "---------- Epoch: 48 ----------\n",
      "---------- Epoch: 49 ----------\n",
      "---------- Epoch: 50 ----------\n",
      "Эпоха 50\n",
      "gloss 1.1245824098587036, dloss 0.43884575366973877\n",
      "---------- Epoch: 51 ----------\n",
      "---------- Epoch: 52 ----------\n",
      "---------- Epoch: 53 ----------\n",
      "---------- Epoch: 54 ----------\n",
      "---------- Epoch: 55 ----------\n",
      "---------- Epoch: 56 ----------\n",
      "---------- Epoch: 57 ----------\n",
      "---------- Epoch: 58 ----------\n",
      "---------- Epoch: 59 ----------\n",
      "---------- Epoch: 60 ----------\n",
      "Эпоха 60\n",
      "gloss 2.4227609634399414, dloss 0.39570629596710205\n",
      "---------- Epoch: 61 ----------\n",
      "---------- Epoch: 62 ----------\n",
      "---------- Epoch: 63 ----------\n",
      "---------- Epoch: 64 ----------\n",
      "---------- Epoch: 65 ----------\n",
      "---------- Epoch: 66 ----------\n",
      "---------- Epoch: 67 ----------\n",
      "---------- Epoch: 68 ----------\n",
      "---------- Epoch: 69 ----------\n",
      "---------- Epoch: 70 ----------\n",
      "Эпоха 70\n",
      "gloss 2.1597704887390137, dloss 0.3774561285972595\n",
      "---------- Epoch: 71 ----------\n",
      "---------- Epoch: 72 ----------\n",
      "---------- Epoch: 73 ----------\n",
      "---------- Epoch: 74 ----------\n",
      "---------- Epoch: 75 ----------\n",
      "---------- Epoch: 76 ----------\n",
      "---------- Epoch: 77 ----------\n",
      "---------- Epoch: 78 ----------\n",
      "---------- Epoch: 79 ----------\n",
      "---------- Epoch: 80 ----------\n",
      "Эпоха 80\n",
      "gloss 2.3154726028442383, dloss 0.38390809297561646\n",
      "---------- Epoch: 81 ----------\n",
      "---------- Epoch: 82 ----------\n",
      "---------- Epoch: 83 ----------\n",
      "---------- Epoch: 84 ----------\n",
      "---------- Epoch: 85 ----------\n",
      "---------- Epoch: 86 ----------\n",
      "---------- Epoch: 87 ----------\n",
      "---------- Epoch: 88 ----------\n",
      "---------- Epoch: 89 ----------\n",
      "---------- Epoch: 90 ----------\n",
      "Эпоха 90\n",
      "gloss 1.6456480026245117, dloss 0.3866423964500427\n",
      "---------- Epoch: 91 ----------\n",
      "---------- Epoch: 92 ----------\n",
      "---------- Epoch: 93 ----------\n",
      "---------- Epoch: 94 ----------\n",
      "---------- Epoch: 95 ----------\n",
      "---------- Epoch: 96 ----------\n",
      "---------- Epoch: 97 ----------\n",
      "---------- Epoch: 98 ----------\n",
      "---------- Epoch: 99 ----------\n",
      "---------- Epoch: 100 ----------\n",
      "Эпоха 100\n",
      "gloss 2.0411455631256104, dloss 0.3473232388496399\n"
     ]
    },
    {
     "data": {
      "image/png": "[encoded data removed]",
      "text/plain": [
       "<Figure size 432x288 with 1 Axes>"
      ]
     },
     "metadata": {
      "needs_background": "light"
     },
     "output_type": "display_data"
    }
   ],
   "source": [
    "train(ys)"
   ]
  },
  {
   "cell_type": "code",
   "execution_count": 74,
   "metadata": {},
   "outputs": [
    {
     "data": {
      "text/plain": [
       "[<matplotlib.lines.Line2D at 0x7f198a710a90>]"
      ]
     },
     "execution_count": 74,
     "metadata": {},
     "output_type": "execute_result"
    },
    {
     "data": {
      "image/png": "[encoded data removed]",
      "text/plain": [
       "<Figure size 432x288 with 1 Axes>"
      ]
     },
     "metadata": {
      "needs_background": "light"
     },
     "output_type": "display_data"
    }
   ],
   "source": [
    "data = g_.predict(np.random.normal(0, 1, size=(2, RANDOM_SIZE)))\n",
    "plt.plot(data[0])"
   ]
  },
  {
   "cell_type": "markdown",
   "metadata": {},
   "source": [
    "# Возможные направления для самостоятельных исследований\n",
    "\n",
    "- DCGAN\n",
    "- DCGAN для фото знаменитостей\n",
    "- Использование GAN для генерации текстов"
   ]
  },
  {
   "cell_type": "code",
   "execution_count": null,
   "metadata": {},
   "outputs": [],
   "source": []
  }
 ],
 "metadata": {
  "colab": {
   "name": "GAN",
   "provenance": []
  },
  "kernelspec": {
   "display_name": "Python 3",
   "language": "python",
   "name": "python3"
  },
  "language_info": {
   "codemirror_mode": {
    "name": "ipython",
    "version": 3
   },
   "file_extension": ".py",
   "mimetype": "text/x-python",
   "name": "python",
   "nbconvert_exporter": "python",
   "pygments_lexer": "ipython3",
   "version": "3.9.2"
  }
 },
 "nbformat": 4,
 "nbformat_minor": 1
}
